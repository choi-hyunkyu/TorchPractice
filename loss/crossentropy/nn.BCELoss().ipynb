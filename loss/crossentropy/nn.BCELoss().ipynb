{
 "cells": [
  {
   "cell_type": "code",
   "execution_count": 1,
   "metadata": {},
   "outputs": [],
   "source": [
    "import torch\n",
    "import torch.nn as nn"
   ]
  },
  {
   "cell_type": "code",
   "execution_count": 2,
   "metadata": {},
   "outputs": [],
   "source": [
    "sequence_length = 1\n",
    "batch_size = 16\n",
    "output_size = 3\n",
    "target_size = 3"
   ]
  },
  {
   "cell_type": "code",
   "execution_count": 3,
   "metadata": {},
   "outputs": [],
   "source": [
    "input = torch.rand(sequence_length, batch_size, output_size, requires_grad = True)\n",
    "output = torch.empty(sequence_length, batch_size, target_size).random_(2)\n",
    "m = nn.Sigmoid()\n",
    "criterion = nn.BCELoss()"
   ]
  },
  {
   "cell_type": "code",
   "execution_count": 4,
   "metadata": {},
   "outputs": [
    {
     "name": "stdout",
     "output_type": "stream",
     "text": [
      "torch.Size([1, 16, 3])\n",
      "3\n"
     ]
    }
   ],
   "source": [
    "print(input.size())\n",
    "print(input.dim())"
   ]
  },
  {
   "cell_type": "code",
   "execution_count": 5,
   "metadata": {},
   "outputs": [
    {
     "data": {
      "text/plain": [
       "tensor([[[0.3752, 0.1386, 0.6633],\n",
       "         [0.5925, 0.9046, 0.8070],\n",
       "         [0.2641, 0.6145, 0.3108],\n",
       "         [0.6835, 0.5369, 0.7257],\n",
       "         [0.8978, 0.6765, 0.5452],\n",
       "         [0.4437, 0.6287, 0.9803],\n",
       "         [0.3486, 0.9815, 0.9027],\n",
       "         [0.1579, 0.4482, 0.7365],\n",
       "         [0.2054, 0.7987, 0.9141],\n",
       "         [0.2318, 0.5451, 0.0202],\n",
       "         [0.6431, 0.3513, 0.9418],\n",
       "         [0.3910, 0.4686, 0.2150],\n",
       "         [0.2547, 0.8702, 0.2313],\n",
       "         [0.6424, 0.3359, 0.5872],\n",
       "         [0.3646, 0.6248, 0.1698],\n",
       "         [0.8950, 0.4742, 0.9803]]], requires_grad=True)"
      ]
     },
     "execution_count": 5,
     "metadata": {},
     "output_type": "execute_result"
    }
   ],
   "source": [
    "input"
   ]
  },
  {
   "cell_type": "code",
   "execution_count": 6,
   "metadata": {},
   "outputs": [
    {
     "name": "stdout",
     "output_type": "stream",
     "text": [
      "torch.Size([1, 16, 3])\n",
      "3\n"
     ]
    }
   ],
   "source": [
    "print(output.size())\n",
    "print(output.dim())"
   ]
  },
  {
   "cell_type": "code",
   "execution_count": 7,
   "metadata": {},
   "outputs": [
    {
     "data": {
      "text/plain": [
       "tensor([[[0., 1., 1.],\n",
       "         [1., 0., 1.],\n",
       "         [1., 1., 0.],\n",
       "         [0., 1., 1.],\n",
       "         [1., 0., 0.],\n",
       "         [1., 0., 1.],\n",
       "         [0., 1., 1.],\n",
       "         [1., 0., 0.],\n",
       "         [1., 1., 1.],\n",
       "         [1., 0., 0.],\n",
       "         [1., 1., 0.],\n",
       "         [0., 0., 1.],\n",
       "         [0., 0., 0.],\n",
       "         [0., 0., 1.],\n",
       "         [0., 0., 1.],\n",
       "         [1., 1., 0.]]])"
      ]
     },
     "execution_count": 7,
     "metadata": {},
     "output_type": "execute_result"
    }
   ],
   "source": [
    "output"
   ]
  },
  {
   "cell_type": "code",
   "execution_count": 8,
   "metadata": {},
   "outputs": [
    {
     "name": "stdout",
     "output_type": "stream",
     "text": [
      "tensor([0.3752, 0.1386, 0.6633], grad_fn=<SelectBackward>)\n",
      "tensor([0., 1., 1.])\n",
      "tensor(0.9524, grad_fn=<BinaryCrossEntropyBackward>)\n",
      "\n",
      "tensor([0.5925, 0.9046, 0.8070], grad_fn=<SelectBackward>)\n",
      "tensor([1., 0., 1.])\n",
      "tensor(1.0292, grad_fn=<BinaryCrossEntropyBackward>)\n",
      "\n",
      "tensor([0.2641, 0.6145, 0.3108], grad_fn=<SelectBackward>)\n",
      "tensor([1., 1., 0.])\n",
      "tensor(0.7302, grad_fn=<BinaryCrossEntropyBackward>)\n",
      "\n",
      "tensor([0.6835, 0.5369, 0.7257], grad_fn=<SelectBackward>)\n",
      "tensor([0., 1., 1.])\n",
      "tensor(0.6977, grad_fn=<BinaryCrossEntropyBackward>)\n",
      "\n",
      "tensor([0.8978, 0.6765, 0.5452], grad_fn=<SelectBackward>)\n",
      "tensor([1., 0., 0.])\n",
      "tensor(0.6747, grad_fn=<BinaryCrossEntropyBackward>)\n",
      "\n",
      "tensor([0.4437, 0.6287, 0.9803], grad_fn=<SelectBackward>)\n",
      "tensor([1., 0., 1.])\n",
      "tensor(0.6077, grad_fn=<BinaryCrossEntropyBackward>)\n",
      "\n",
      "tensor([0.3486, 0.9815, 0.9027], grad_fn=<SelectBackward>)\n",
      "tensor([0., 1., 1.])\n",
      "tensor(0.1832, grad_fn=<BinaryCrossEntropyBackward>)\n",
      "\n",
      "tensor([0.1579, 0.4482, 0.7365], grad_fn=<SelectBackward>)\n",
      "tensor([1., 0., 0.])\n",
      "tensor(1.2580, grad_fn=<BinaryCrossEntropyBackward>)\n",
      "\n",
      "tensor([0.2054, 0.7987, 0.9141], grad_fn=<SelectBackward>)\n",
      "tensor([1., 1., 1.])\n",
      "tensor(0.6324, grad_fn=<BinaryCrossEntropyBackward>)\n",
      "\n",
      "tensor([0.2318, 0.5451, 0.0202], grad_fn=<SelectBackward>)\n",
      "tensor([1., 0., 0.])\n",
      "tensor(0.7566, grad_fn=<BinaryCrossEntropyBackward>)\n",
      "\n",
      "tensor([0.6431, 0.3513, 0.9418], grad_fn=<SelectBackward>)\n",
      "tensor([1., 1., 0.])\n",
      "tensor(1.4437, grad_fn=<BinaryCrossEntropyBackward>)\n",
      "\n",
      "tensor([0.3910, 0.4686, 0.2150], grad_fn=<SelectBackward>)\n",
      "tensor([0., 0., 1.])\n",
      "tensor(0.8885, grad_fn=<BinaryCrossEntropyBackward>)\n",
      "\n",
      "tensor([0.2547, 0.8702, 0.2313], grad_fn=<SelectBackward>)\n",
      "tensor([0., 0., 0.])\n",
      "tensor(0.8664, grad_fn=<BinaryCrossEntropyBackward>)\n",
      "\n",
      "tensor([0.6424, 0.3359, 0.5872], grad_fn=<SelectBackward>)\n",
      "tensor([0., 0., 1.])\n",
      "tensor(0.6567, grad_fn=<BinaryCrossEntropyBackward>)\n",
      "\n",
      "tensor([0.3646, 0.6248, 0.1698], grad_fn=<SelectBackward>)\n",
      "tensor([0., 0., 1.])\n",
      "tensor(1.0690, grad_fn=<BinaryCrossEntropyBackward>)\n",
      "\n",
      "tensor([0.8950, 0.4742, 0.9803], grad_fn=<SelectBackward>)\n",
      "tensor([1., 1., 0.])\n",
      "tensor(1.5949, grad_fn=<BinaryCrossEntropyBackward>)\n",
      "\n"
     ]
    }
   ],
   "source": [
    "for index, sample in enumerate(zip(input[0], output[0])):\n",
    "    i, o = sample\n",
    "    loss = criterion(i, o)\n",
    "    print(i)\n",
    "    print(o)\n",
    "    print(loss)\n",
    "    print()\n",
    "    loss.backward()"
   ]
  }
 ],
 "metadata": {
  "kernelspec": {
   "display_name": "Python 3",
   "language": "python",
   "name": "python3"
  },
  "language_info": {
   "codemirror_mode": {
    "name": "ipython",
    "version": 3
   },
   "file_extension": ".py",
   "mimetype": "text/x-python",
   "name": "python",
   "nbconvert_exporter": "python",
   "pygments_lexer": "ipython3",
   "version": "3.8.5"
  }
 },
 "nbformat": 4,
 "nbformat_minor": 4
}
