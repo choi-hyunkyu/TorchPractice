{
 "cells": [
  {
   "cell_type": "code",
   "execution_count": 1,
   "metadata": {},
   "outputs": [],
   "source": [
    "import torch\n",
    "import torch.nn as nn"
   ]
  },
  {
   "cell_type": "code",
   "execution_count": 2,
   "metadata": {},
   "outputs": [],
   "source": [
    "sequence_length = 1\n",
    "batch_size = 16\n",
    "output_size = 3\n",
    "target_size = 3"
   ]
  },
  {
   "cell_type": "code",
   "execution_count": 3,
   "metadata": {},
   "outputs": [],
   "source": [
    "input = torch.rand(sequence_length, batch_size, output_size, requires_grad = True)\n",
    "output = torch.empty(sequence_length, batch_size, target_size).random_(2)\n",
    "m = nn.Sigmoid()\n",
    "criterion = nn.BCELoss()"
   ]
  },
  {
   "cell_type": "code",
   "execution_count": 4,
   "metadata": {},
   "outputs": [
    {
     "name": "stdout",
     "output_type": "stream",
     "text": [
      "torch.Size([1, 16, 3])\n",
      "3\n"
     ]
    }
   ],
   "source": [
    "print(input.size())\n",
    "print(input.dim())"
   ]
  },
  {
   "cell_type": "code",
   "execution_count": 5,
   "metadata": {},
   "outputs": [
    {
     "data": {
      "text/plain": [
       "tensor([[[0.4351, 0.8710, 0.2825],\n",
       "         [0.6184, 0.0759, 0.7331],\n",
       "         [0.4350, 0.1834, 0.3066],\n",
       "         [0.2113, 0.4359, 0.8211],\n",
       "         [0.0120, 0.7356, 0.2326],\n",
       "         [0.9874, 0.7805, 0.4497],\n",
       "         [0.9414, 0.3602, 0.1006],\n",
       "         [0.8560, 0.0667, 0.4993],\n",
       "         [0.6894, 0.6494, 0.9225],\n",
       "         [0.3669, 0.6596, 0.9573],\n",
       "         [0.1345, 0.8921, 0.9289],\n",
       "         [0.4949, 0.9610, 0.5855],\n",
       "         [0.5857, 0.0793, 0.5509],\n",
       "         [0.7165, 0.0075, 0.1730],\n",
       "         [0.9488, 0.3027, 0.7022],\n",
       "         [0.6457, 0.0454, 0.6796]]], requires_grad=True)"
      ]
     },
     "execution_count": 5,
     "metadata": {},
     "output_type": "execute_result"
    }
   ],
   "source": [
    "input"
   ]
  },
  {
   "cell_type": "code",
   "execution_count": 6,
   "metadata": {},
   "outputs": [
    {
     "name": "stdout",
     "output_type": "stream",
     "text": [
      "torch.Size([1, 16, 3])\n",
      "3\n"
     ]
    }
   ],
   "source": [
    "print(output.size())\n",
    "print(output.dim())"
   ]
  },
  {
   "cell_type": "code",
   "execution_count": 7,
   "metadata": {},
   "outputs": [
    {
     "data": {
      "text/plain": [
       "tensor([[[1., 0., 1.],\n",
       "         [0., 1., 1.],\n",
       "         [1., 0., 1.],\n",
       "         [1., 1., 0.],\n",
       "         [1., 0., 0.],\n",
       "         [1., 0., 1.],\n",
       "         [0., 1., 0.],\n",
       "         [1., 1., 1.],\n",
       "         [0., 1., 1.],\n",
       "         [0., 1., 1.],\n",
       "         [0., 0., 1.],\n",
       "         [0., 0., 0.],\n",
       "         [1., 1., 1.],\n",
       "         [1., 1., 1.],\n",
       "         [0., 1., 0.],\n",
       "         [1., 0., 0.]]])"
      ]
     },
     "execution_count": 7,
     "metadata": {},
     "output_type": "execute_result"
    }
   ],
   "source": [
    "output"
   ]
  },
  {
   "cell_type": "code",
   "execution_count": 8,
   "metadata": {},
   "outputs": [
    {
     "name": "stdout",
     "output_type": "stream",
     "text": [
      "tensor([0.4351, 0.8710, 0.2825], grad_fn=<SelectBackward>)\n",
      "tensor([1., 0., 1.])\n",
      "tensor(0.7605, grad_fn=<BinaryCrossEntropyBackward>)\n",
      "\n",
      "tensor([0.6184, 0.0759, 0.7331], grad_fn=<SelectBackward>)\n",
      "tensor([0., 1., 1.])\n",
      "tensor(0.6992, grad_fn=<BinaryCrossEntropyBackward>)\n",
      "\n",
      "tensor([0.4350, 0.1834, 0.3066], grad_fn=<SelectBackward>)\n",
      "tensor([1., 0., 1.])\n",
      "tensor(0.6132, grad_fn=<BinaryCrossEntropyBackward>)\n",
      "\n",
      "tensor([0.2113, 0.4359, 0.8211], grad_fn=<SelectBackward>)\n",
      "tensor([1., 1., 0.])\n",
      "tensor(0.7592, grad_fn=<BinaryCrossEntropyBackward>)\n",
      "\n",
      "tensor([0.0120, 0.7356, 0.2326], grad_fn=<SelectBackward>)\n",
      "tensor([1., 0., 0.])\n",
      "tensor(0.8768, grad_fn=<BinaryCrossEntropyBackward>)\n",
      "\n",
      "tensor([0.9874, 0.7805, 0.4497], grad_fn=<SelectBackward>)\n",
      "tensor([1., 0., 1.])\n",
      "tensor(0.6559, grad_fn=<BinaryCrossEntropyBackward>)\n",
      "\n",
      "tensor([0.9414, 0.3602, 0.1006], grad_fn=<SelectBackward>)\n",
      "tensor([0., 1., 0.])\n",
      "tensor(0.8482, grad_fn=<BinaryCrossEntropyBackward>)\n",
      "\n",
      "tensor([0.8560, 0.0667, 0.4993], grad_fn=<SelectBackward>)\n",
      "tensor([1., 1., 1.])\n",
      "tensor(0.4962, grad_fn=<BinaryCrossEntropyBackward>)\n",
      "\n",
      "tensor([0.6894, 0.6494, 0.9225], grad_fn=<SelectBackward>)\n",
      "tensor([0., 1., 1.])\n",
      "tensor(0.6170, grad_fn=<BinaryCrossEntropyBackward>)\n",
      "\n",
      "tensor([0.3669, 0.6596, 0.9573], grad_fn=<SelectBackward>)\n",
      "tensor([0., 1., 1.])\n",
      "tensor(0.5450, grad_fn=<BinaryCrossEntropyBackward>)\n",
      "\n",
      "tensor([0.1345, 0.8921, 0.9289], grad_fn=<SelectBackward>)\n",
      "tensor([0., 0., 1.])\n",
      "tensor(0.7770, grad_fn=<BinaryCrossEntropyBackward>)\n",
      "\n",
      "tensor([0.4949, 0.9610, 0.5855], grad_fn=<SelectBackward>)\n",
      "tensor([0., 0., 0.])\n",
      "tensor(1.0946, grad_fn=<BinaryCrossEntropyBackward>)\n",
      "\n",
      "tensor([0.5857, 0.0793, 0.5509], grad_fn=<SelectBackward>)\n",
      "tensor([1., 1., 1.])\n",
      "tensor(0.5173, grad_fn=<BinaryCrossEntropyBackward>)\n",
      "\n",
      "tensor([0.7165, 0.0075, 0.1730], grad_fn=<SelectBackward>)\n",
      "tensor([1., 1., 1.])\n",
      "tensor(0.5659, grad_fn=<BinaryCrossEntropyBackward>)\n",
      "\n",
      "tensor([0.9488, 0.3027, 0.7022], grad_fn=<SelectBackward>)\n",
      "tensor([0., 1., 0.])\n",
      "tensor(0.9780, grad_fn=<BinaryCrossEntropyBackward>)\n",
      "\n",
      "tensor([0.6457, 0.0454, 0.6796], grad_fn=<SelectBackward>)\n",
      "tensor([1., 0., 0.])\n",
      "tensor(0.7424, grad_fn=<BinaryCrossEntropyBackward>)\n",
      "\n"
     ]
    }
   ],
   "source": [
    "for index, sample in enumerate(zip(input[0], output[0])):\n",
    "    i, o = sample\n",
    "    loss = criterion(m(i), o)\n",
    "    print(i)\n",
    "    print(o)\n",
    "    print(loss)\n",
    "    print()\n",
    "    loss.backward()"
   ]
  }
 ],
 "metadata": {
  "kernelspec": {
   "display_name": "Python 3",
   "language": "python",
   "name": "python3"
  },
  "language_info": {
   "codemirror_mode": {
    "name": "ipython",
    "version": 3
   },
   "file_extension": ".py",
   "mimetype": "text/x-python",
   "name": "python",
   "nbconvert_exporter": "python",
   "pygments_lexer": "ipython3",
   "version": "3.8.5"
  }
 },
 "nbformat": 4,
 "nbformat_minor": 4
}
